{
 "cells": [
  {
   "cell_type": "code",
   "execution_count": 1,
   "id": "0ef7b814-ad73-4601-aca9-3c747cdb7a99",
   "metadata": {},
   "outputs": [
    {
     "name": "stdout",
     "output_type": "stream",
     "text": [
      "Requirement already satisfied: pypdf in /Users/chaupham/anaconda3/envs/chaupmbn/lib/python3.10/site-packages (4.2.0)\n",
      "Requirement already satisfied: typing_extensions>=4.0 in /Users/chaupham/anaconda3/envs/chaupmbn/lib/python3.10/site-packages (from pypdf) (4.10.0)\n"
     ]
    }
   ],
   "source": [
    "!pip install pypdf"
   ]
  },
  {
   "cell_type": "code",
   "execution_count": 2,
   "id": "25da7a27-1812-4d22-bfc7-647e17f3ffd0",
   "metadata": {
    "scrolled": true
   },
   "outputs": [
    {
     "name": "stdout",
     "output_type": "stream",
     "text": [
      "YOLOv9: Learning What You Want to Learn\n",
      "Using Programmable Gradient Information\n",
      "Chien-Yao Wang1,2, I-Hau Yeh2, and Hong-Yuan Mark Liao1,2,3\n",
      "1Institute of Information Science, Academia Sinica, Taiwan\n",
      "2National Taipei University of Technology, Taiwan\n",
      "3Department of Information and Computer Engineering, Chung Yuan Christian University, Taiwan\n",
      "kinyiu@iis.sinica.edu.tw, ihyeh@emc.com.tw, and liao@iis.sinica.edu.tw\n",
      "Abstract\n",
      "Today’s deep learning methods focus on how to design\n",
      "the most appropriate objective functions so that the pre-\n",
      "diction results of the model can be closest to the ground\n",
      "truth. Meanwhile, an appropriate architecture that can\n",
      "facilitate acquisition of enough information for prediction\n",
      "has to be designed. Existing methods ignore a fact that\n",
      "when input data undergoes layer-by-layer feature extrac-\n",
      "tion and spatial transformation, large amount of informa-\n",
      "tion will be lost. This paper will delve into the important is-\n",
      "sues of data loss when data is transmitted through deep net-\n",
      "works, namely information bottleneck and reversible func-\n",
      "tions. We proposed the concept of programmable gradi-\n",
      "ent information (PGI) to cope with the various changes\n",
      "required by deep networks to achieve multiple objectives.\n",
      "PGI can provide complete input information for the tar-\n",
      "get task to calculate objective function, so that reliable\n",
      "gradient information can be obtained to update network\n",
      "weights. In addition, a new lightweight network architec-\n",
      "ture – Generalized Efficient Layer Aggregation Network\n",
      "(GELAN), based on gradient path planning is designed.\n",
      "GELAN’s architecture confirms that PGI has gained su-\n",
      "perior results on lightweight models. We verified the pro-\n",
      "posed GELAN and PGI on MS COCO dataset based ob-\n",
      "ject detection. The results show that GELAN only uses\n",
      "conventional convolution operators to achieve better pa-\n",
      "rameter utilization than the state-of-the-art methods devel-\n",
      "oped based on depth-wise convolution. PGI can be used\n",
      "for variety of models from lightweight to large. It can be\n",
      "used to obtain complete information, so that train-from-\n",
      "scratch models can achieve better results than state-of-the-\n",
      "art models pre-trained using large datasets, the compari-\n",
      "son results are shown in Figure 1. The source codes are at:\n",
      "https://github.com/WongKinYiu/yolov9 .\n",
      "1. Introduction\n",
      "Deep learning-based models have demonstrated far bet-\n",
      "ter performance than past artificial intelligence systems in\n",
      "various fields, such as computer vision, language process-\n",
      "ing, and speech recognition. In recent years, researchers\n",
      "Figure 1. Comparisons of the real-time object detecors on MS\n",
      "COCO dataset. The GELAN and PGI-based object detection\n",
      "method surpassed all previous train-from-scratch methods in terms\n",
      "of object detection performance. In terms of accuracy, the new\n",
      "method outperforms RT DETR [43] pre-trained with a large\n",
      "dataset, and it also outperforms depth-wise convolution-based de-\n",
      "sign YOLO MS [7] in terms of parameters utilization.\n",
      "in the field of deep learning have mainly focused on how\n",
      "to develop more powerful system architectures and learn-\n",
      "ing methods, such as CNNs [21–23, 42, 55, 71, 72], Trans-\n",
      "formers [8, 9, 40, 41, 60, 69, 70], Perceivers [26, 26, 32, 52,\n",
      "56, 81, 81], and Mambas [17, 38, 80]. In addition, some\n",
      "researchers have tried to develop more general objective\n",
      "functions, such as loss function [5, 45, 46, 50, 77, 78], la-\n",
      "bel assignment [10, 12, 33, 67, 79] and auxiliary supervi-\n",
      "sion [18, 20, 24, 28, 29, 51, 54, 68, 76]. The above studies\n",
      "all try to precisely find the mapping between input and tar-\n",
      "get tasks. However, most past approaches have ignored that\n",
      "input data may have a non-negligible amount of informa-\n",
      "tion loss during the feedforward process. This loss of in-\n",
      "formation can lead to biased gradient flows, which are sub-\n",
      "sequently used to update the model. The above problems\n",
      "can result in deep networks to establish incorrect associa-\n",
      "tions between targets and inputs, causing the trained model\n",
      "to produce incorrect predictions.\n",
      "1arXiv:2402.13616v2  [cs.CV]  29 Feb 2024\n"
     ]
    }
   ],
   "source": [
    "from pypdf import PdfReader\n",
    "# Đọc file PDF\n",
    "reader = PdfReader(\"/Users/chaupham/Data_Science/40-Day-Python/Day-37/yolov9.pdf\")\n",
    "\n",
    "# Lấy số trang\n",
    "num_pages = len(reader.pages)\n",
    "\n",
    "# Lấy nội dung trang đầu tiên\n",
    "page_1 = reader.pages[0]\n",
    "page_1_txt = page_1.extract_text()\n",
    "\n",
    "# Lấy nội dung toàn bộ các trang\n",
    "pages_txt = \"\"\n",
    "for i in range(num_pages):\n",
    "    page = reader.pages[i]\n",
    "    pages_txt += page.extract_text() + \"\\n\"\n",
    "print(page_1_txt)"
   ]
  },
  {
   "cell_type": "code",
   "execution_count": 3,
   "id": "18cd5e11-afda-44bf-aa01-0bc713d6b49d",
   "metadata": {},
   "outputs": [],
   "source": [
    "# extract images\n",
    "count = 0\n",
    "for page in reader.pages:\n",
    "    for image_file_object in page.images :\n",
    "        with open (str(count) + image_file_object.name, \"wb\") as fp:\n",
    "            fp.write(image_file_object.data)\n",
    "            count += 1"
   ]
  },
  {
   "cell_type": "code",
   "execution_count": 4,
   "id": "a2fc2f05-b3ee-4ea6-acf7-23188d3c64c5",
   "metadata": {},
   "outputs": [],
   "source": [
    "# Merge PDFs\n",
    "from pypdf import PdfWriter\n",
    "merger = PdfWriter()\n",
    "for pdf in [\"/Users/chaupham/Data_Science/40-Day-Python/Day-37/yolov6.pdf\", \"/Users/chaupham/Data_Science/40-Day-Python/Day-37/yolov7.pdf\", \"/Users/chaupham/Data_Science/40-Day-Python/Day-37/yolov9.pdf\"]:\n",
    "    merger.append(pdf)\n",
    "    merger.write(\"/Users/chaupham/Data_Science/40-Day-Python/Day-37/merged-yolov-679.pdf\")\n",
    "    merger.close()"
   ]
  },
  {
   "cell_type": "code",
   "execution_count": 5,
   "id": "a06e5185-baf7-44e5-8ae2-6a9564470584",
   "metadata": {},
   "outputs": [],
   "source": [
    "# Compress PDF\n",
    "writer = PdfWriter(clone_from =\"/Users/chaupham/Data_Science/40-Day-Python/Day-37/yolov9.pdf\")\n",
    "\n",
    "for page in writer . pages :\n",
    "    page.compress_content_streams(level =8) # This is CPU intensive !\n",
    "with open (\"out.pdf \", \"wb\") as f :\n",
    "    writer.write(f)"
   ]
  },
  {
   "cell_type": "code",
   "execution_count": 7,
   "id": "5421449a-316c-4df9-adcf-e4f8ee40a151",
   "metadata": {},
   "outputs": [
    {
     "name": "stdout",
     "output_type": "stream",
     "text": [
      "yolo9.pdf size :4.738467216491699\n",
      "out.pdf size :4.718204498291016\n"
     ]
    }
   ],
   "source": [
    "# get size of file pdf\n",
    "import os\n",
    "file_size = os.path.getsize(\"/Users/chaupham/Data_Science/40-Day-Python/Day-37/yolov9.pdf\")/(1024 * 1024)\n",
    "print(f\"yolo9.pdf size :{file_size}\")\n",
    "\n",
    "file_out = os.path.getsize(\"/Users/chaupham/Data_Science/40-Day-Python/Day-37/out.pdf\")/(1024 * 1024)\n",
    "print(f\"out.pdf size :{file_out}\")"
   ]
  },
  {
   "cell_type": "code",
   "execution_count": null,
   "id": "b8d79784-59d0-40f8-9c1c-9acde92a73e2",
   "metadata": {},
   "outputs": [],
   "source": []
  }
 ],
 "metadata": {
  "kernelspec": {
   "display_name": "Python 3 (ipykernel)",
   "language": "python",
   "name": "python3"
  },
  "language_info": {
   "codemirror_mode": {
    "name": "ipython",
    "version": 3
   },
   "file_extension": ".py",
   "mimetype": "text/x-python",
   "name": "python",
   "nbconvert_exporter": "python",
   "pygments_lexer": "ipython3",
   "version": "3.10.14"
  }
 },
 "nbformat": 4,
 "nbformat_minor": 5
}
