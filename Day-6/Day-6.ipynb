{
 "cells": [
  {
   "cell_type": "markdown",
   "metadata": {},
   "source": [
    "### SWITCH CASE"
   ]
  },
  {
   "cell_type": "code",
   "execution_count": 5,
   "metadata": {},
   "outputs": [],
   "source": [
    "time = input(\"Input time: \")"
   ]
  },
  {
   "cell_type": "code",
   "execution_count": 6,
   "metadata": {},
   "outputs": [
    {
     "name": "stdout",
     "output_type": "stream",
     "text": [
      "Work\n"
     ]
    }
   ],
   "source": [
    "# Method 1\n",
    "if time == \"5 AM\":\n",
    "    print(\"Wake up\")\n",
    "elif time == \"6 AM\":\n",
    "    print(\"Yoga\")\n",
    "elif time == \"7 AM\":\n",
    "    print(\"Work\")\n",
    "else:\n",
    "    print(\"Do something else\")"
   ]
  },
  {
   "cell_type": "code",
   "execution_count": 7,
   "metadata": {},
   "outputs": [
    {
     "data": {
      "text/plain": [
       "'Work'"
      ]
     },
     "execution_count": 7,
     "metadata": {},
     "output_type": "execute_result"
    }
   ],
   "source": [
    "# Method 2\n",
    "todo = {\"5 AM\": \"Wake up\", \"6 AM\": \"Yoga\", \"7 AM\": \"Work\"}\n",
    "todo.get(time, \"Do something else\")"
   ]
  },
  {
   "cell_type": "code",
   "execution_count": 8,
   "metadata": {},
   "outputs": [
    {
     "name": "stdout",
     "output_type": "stream",
     "text": [
      "Work\n"
     ]
    }
   ],
   "source": [
    "# Method 3\n",
    "match time:\n",
    "    case \"5 AM\":\n",
    "        print(\"Wake up\")\n",
    "    case \"6 AM\":\n",
    "        print(\"Yoga\")\n",
    "    case \"7 AM\":\n",
    "        print(\"Work\")\n",
    "    case _:\n",
    "        print(\"Do something else\")"
   ]
  }
 ],
 "metadata": {
  "kernelspec": {
   "display_name": "chaupmbn",
   "language": "python",
   "name": "python3"
  },
  "language_info": {
   "codemirror_mode": {
    "name": "ipython",
    "version": 3
   },
   "file_extension": ".py",
   "mimetype": "text/x-python",
   "name": "python",
   "nbconvert_exporter": "python",
   "pygments_lexer": "ipython3",
   "version": "3.10.14"
  }
 },
 "nbformat": 4,
 "nbformat_minor": 2
}
