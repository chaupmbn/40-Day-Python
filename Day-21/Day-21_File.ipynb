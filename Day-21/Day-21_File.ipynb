{
 "cells": [
  {
   "cell_type": "markdown",
   "metadata": {},
   "source": [
    "### Bài tập: [Dữ liệu dataset](https://drive.google.com/file/d/1EQOhUqiA9rwYxIjXWNdbDXNj6Tt6EVf4/view?fbclid=IwAR1qfBITvo3bSp8P8LqbAxlPj9-XE2hqwuaDyT0UYS6VkZ6DOOIxYs3UW7g)\n",
    "#### Câu 1:\n",
    "Hãy đọc file *data.txt* có trong dataset phía trên và lưu vào biến *data* sau khi loại bỏ các ký tự \\n và thay thế bằng khoảng trắng, đồng thời chuyển về chữ cái thường toàn bộ văn bản."
   ]
  },
  {
   "cell_type": "code",
   "execution_count": 2,
   "metadata": {},
   "outputs": [
    {
     "name": "stdout",
     "output_type": "stream",
     "text": [
      "he who conquers himself is the mightiest warrior try not to become a man of success but rather become a man of value one man with courage makes a majority one secret of success in life is for a man to be ready for his opportunity when it comes the successful man will profit from his mistakes and try again in a different way a successful man is one who can lay a firm foundation with the bricks others have thrown at him success usually comes to those who are too busy looking for it we cannot solve problems with the kind of thinking we employed when we came up with them just one small positive thought in the morning can change your whole day you can get everything in life you want if you will just help enough other people get what they want\n"
     ]
    }
   ],
   "source": [
    "with open('/Users/chaupham/Data_Science/40-Day-Python/Day-21/data.txt','r') as f:\n",
    "    data = f.read()\n",
    "data = data.replace('\\n',' ')\n",
    "data = data.lower()\n",
    "print(data)"
   ]
  },
  {
   "cell_type": "markdown",
   "metadata": {},
   "source": [
    "#### Câu 2:\n",
    "Phân tích văn bản trên và lưu vào biến có tên *distinct_words* các chữ cái duy nhất trong câu"
   ]
  },
  {
   "cell_type": "code",
   "execution_count": 3,
   "metadata": {},
   "outputs": [
    {
     "name": "stdout",
     "output_type": "stream",
     "text": [
      "['he', 'who', 'conquers', 'himself', 'is', 'the', 'mightiest', 'warrior', 'try', 'not', 'to', 'become', 'a', 'man', 'of', 'success', 'but', 'rather', 'value', 'one', 'with', 'courage', 'makes', 'majority', 'secret', 'in', 'life', 'for', 'be', 'ready', 'his', 'opportunity', 'when', 'it', 'comes', 'successful', 'will', 'profit', 'from', 'mistakes', 'and', 'again', 'different', 'way', 'can', 'lay', 'firm', 'foundation', 'bricks', 'others', 'have', 'thrown', 'at', 'him', 'usually', 'those', 'are', 'too', 'busy', 'looking', 'we', 'cannot', 'solve', 'problems', 'kind', 'thinking', 'employed', 'came', 'up', 'them', 'just', 'small', 'positive', 'thought', 'morning', 'change', 'your', 'whole', 'day', 'you', 'get', 'everything', 'want', 'if', 'help', 'enough', 'other', 'people', 'what', 'they']\n"
     ]
    }
   ],
   "source": [
    "distinct_words = []\n",
    "data_split = data.split(' ')\n",
    "for word in data_split:\n",
    "    if word not in distinct_words:\n",
    "        distinct_words.append(word)\n",
    "print(distinct_words)"
   ]
  },
  {
   "cell_type": "markdown",
   "metadata": {},
   "source": [
    "#### Câu 3:\n",
    "Đếm số lần từng chữ trong *distinct_words* xuất hiện trong văn bản. Và cho biết chữ nào xuất hiện **nhiều nhất** và **ít nhất**"
   ]
  },
  {
   "cell_type": "code",
   "execution_count": 4,
   "metadata": {},
   "outputs": [
    {
     "name": "stdout",
     "output_type": "stream",
     "text": [
      "Number of \"he\" in data is 1\n",
      "Number of \"who\" in data is 3\n",
      "Number of \"conquers\" in data is 1\n",
      "Number of \"himself\" in data is 1\n",
      "Number of \"is\" in data is 3\n",
      "Number of \"the\" in data is 5\n",
      "Number of \"mightiest\" in data is 1\n",
      "Number of \"warrior\" in data is 1\n",
      "Number of \"try\" in data is 2\n",
      "Number of \"not\" in data is 1\n",
      "Number of \"to\" in data is 3\n",
      "Number of \"become\" in data is 2\n",
      "Number of \"a\" in data is 7\n",
      "Number of \"man\" in data is 6\n",
      "Number of \"of\" in data is 4\n",
      "Number of \"success\" in data is 3\n",
      "Number of \"but\" in data is 1\n",
      "Number of \"rather\" in data is 1\n",
      "Number of \"value\" in data is 1\n",
      "Number of \"one\" in data is 4\n",
      "Number of \"with\" in data is 4\n",
      "Number of \"courage\" in data is 1\n",
      "Number of \"makes\" in data is 1\n",
      "Number of \"majority\" in data is 1\n",
      "Number of \"secret\" in data is 1\n",
      "Number of \"in\" in data is 4\n",
      "Number of \"life\" in data is 2\n",
      "Number of \"for\" in data is 3\n",
      "Number of \"be\" in data is 1\n",
      "Number of \"ready\" in data is 1\n",
      "Number of \"his\" in data is 2\n",
      "Number of \"opportunity\" in data is 1\n",
      "Number of \"when\" in data is 2\n",
      "Number of \"it\" in data is 2\n",
      "Number of \"comes\" in data is 2\n",
      "Number of \"successful\" in data is 2\n",
      "Number of \"will\" in data is 2\n",
      "Number of \"profit\" in data is 1\n",
      "Number of \"from\" in data is 1\n",
      "Number of \"mistakes\" in data is 1\n",
      "Number of \"and\" in data is 1\n",
      "Number of \"again\" in data is 1\n",
      "Number of \"different\" in data is 1\n",
      "Number of \"way\" in data is 1\n",
      "Number of \"can\" in data is 3\n",
      "Number of \"lay\" in data is 1\n",
      "Number of \"firm\" in data is 1\n",
      "Number of \"foundation\" in data is 1\n",
      "Number of \"bricks\" in data is 1\n",
      "Number of \"others\" in data is 1\n",
      "Number of \"have\" in data is 1\n",
      "Number of \"thrown\" in data is 1\n",
      "Number of \"at\" in data is 1\n",
      "Number of \"him\" in data is 1\n",
      "Number of \"usually\" in data is 1\n",
      "Number of \"those\" in data is 1\n",
      "Number of \"are\" in data is 1\n",
      "Number of \"too\" in data is 1\n",
      "Number of \"busy\" in data is 1\n",
      "Number of \"looking\" in data is 1\n",
      "Number of \"we\" in data is 3\n",
      "Number of \"cannot\" in data is 1\n",
      "Number of \"solve\" in data is 1\n",
      "Number of \"problems\" in data is 1\n",
      "Number of \"kind\" in data is 1\n",
      "Number of \"thinking\" in data is 1\n",
      "Number of \"employed\" in data is 1\n",
      "Number of \"came\" in data is 1\n",
      "Number of \"up\" in data is 1\n",
      "Number of \"them\" in data is 1\n",
      "Number of \"just\" in data is 2\n",
      "Number of \"small\" in data is 1\n",
      "Number of \"positive\" in data is 1\n",
      "Number of \"thought\" in data is 1\n",
      "Number of \"morning\" in data is 1\n",
      "Number of \"change\" in data is 1\n",
      "Number of \"your\" in data is 1\n",
      "Number of \"whole\" in data is 1\n",
      "Number of \"day\" in data is 1\n",
      "Number of \"you\" in data is 3\n",
      "Number of \"get\" in data is 2\n",
      "Number of \"everything\" in data is 1\n",
      "Number of \"want\" in data is 2\n",
      "Number of \"if\" in data is 1\n",
      "Number of \"help\" in data is 1\n",
      "Number of \"enough\" in data is 1\n",
      "Number of \"other\" in data is 1\n",
      "Number of \"people\" in data is 1\n",
      "Number of \"what\" in data is 1\n",
      "Number of \"they\" in data is 1\n",
      "\"a\" is the most common word with 7 times\n",
      "\"they\" is the least common word with 1 times\n"
     ]
    }
   ],
   "source": [
    "max = 0\n",
    "min = len(data_split)\n",
    "for d_word in distinct_words:\n",
    "    count = 0\n",
    "    for word in data_split:\n",
    "        if word == d_word:\n",
    "            count += 1\n",
    "    print(f'Number of \"{d_word}\" in data is {count}')\n",
    "    if count >= max:\n",
    "        max = count\n",
    "        word_max = d_word\n",
    "    if count <= min:\n",
    "        min = count\n",
    "        word_min = d_word\n",
    "print(f'\"{word_max}\" is the most common word with {max} times')\n",
    "print(f'\"{word_min}\" is the least common word with {min} times')\n",
    "    "
   ]
  },
  {
   "cell_type": "code",
   "execution_count": null,
   "metadata": {},
   "outputs": [],
   "source": []
  }
 ],
 "metadata": {
  "kernelspec": {
   "display_name": "Python 3",
   "language": "python",
   "name": "python3"
  },
  "language_info": {
   "codemirror_mode": {
    "name": "ipython",
    "version": 3
   },
   "file_extension": ".py",
   "mimetype": "text/x-python",
   "name": "python",
   "nbconvert_exporter": "python",
   "pygments_lexer": "ipython3",
   "version": "3.10.14"
  }
 },
 "nbformat": 4,
 "nbformat_minor": 2
}
