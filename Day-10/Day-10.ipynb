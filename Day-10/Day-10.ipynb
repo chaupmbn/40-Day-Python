{
 "cells": [
  {
   "cell_type": "code",
   "execution_count": 1,
   "metadata": {},
   "outputs": [],
   "source": [
    "import numpy as np\n",
    "import torch\n",
    "import tensorflow as tf"
   ]
  },
  {
   "cell_type": "code",
   "execution_count": 2,
   "metadata": {},
   "outputs": [
    {
     "name": "stdout",
     "output_type": "stream",
     "text": [
      "Numpy array:  [2 7 3 2 8 6]\n",
      "Tensorflow tensor:  tf.Tensor([2 7 3 2 8 6], shape=(6,), dtype=int32)\n",
      "Pytorch tensor:  tensor([2, 7, 3, 2, 8, 6])\n"
     ]
    }
   ],
   "source": [
    "# Hãy viết chương trình tạo Numpy array, Tensorflow tensor, Pytorch tensor từ danh sách 1 chiều\n",
    "list_1D = [2,7,3,2,8,6]\n",
    "numpy_array_1D = np.array(list_1D)\n",
    "tf_tensor_1D = tf.constant(list_1D)\n",
    "tensor_1D = torch.tensor(list_1D)\n",
    "print(\"Numpy array: \",numpy_array_1D)\n",
    "print(\"Tensorflow tensor: \", tf_tensor_1D)\n",
    "print(\"Pytorch tensor: \", tensor_1D)"
   ]
  },
  {
   "cell_type": "code",
   "execution_count": 3,
   "metadata": {},
   "outputs": [],
   "source": [
    "list_2D = [\n",
    "    [1,2,3],\n",
    "    [4,5,6]\n",
    "]\n",
    "numpy_array_2D = np.array(list_2D)\n",
    "tf_tensor_2D = tf.constant(list_2D)\n",
    "tensor_2D = torch.tensor(list_2D)"
   ]
  },
  {
   "cell_type": "code",
   "execution_count": 21,
   "metadata": {},
   "outputs": [
    {
     "name": "stdout",
     "output_type": "stream",
     "text": [
      "(2, 3)\n",
      "int64\n",
      "<class 'numpy.ndarray'>\n"
     ]
    }
   ],
   "source": [
    "# Numpy array 2D\n",
    "print(numpy_array_2D.shape)\n",
    "print(numpy_array_2D.dtype)\n",
    "print(type(numpy_array_2D))"
   ]
  },
  {
   "cell_type": "code",
   "execution_count": 24,
   "metadata": {},
   "outputs": [
    {
     "name": "stdout",
     "output_type": "stream",
     "text": [
      "(2, 3)\n",
      "<dtype: 'int32'>\n",
      "<class 'tensorflow.python.framework.ops.EagerTensor'>\n",
      "/job:localhost/replica:0/task:0/device:CPU:0\n"
     ]
    }
   ],
   "source": [
    "# Tensorflow tensor 2D\n",
    "print(tf_tensor_2D.shape)\n",
    "print(tf_tensor_2D.dtype)\n",
    "print(type(tf_tensor_2D))\n",
    "print(tf_tensor_2D.device)"
   ]
  },
  {
   "cell_type": "code",
   "execution_count": 25,
   "metadata": {},
   "outputs": [
    {
     "name": "stdout",
     "output_type": "stream",
     "text": [
      "torch.Size([2, 3])\n",
      "torch.int64\n",
      "<class 'torch.Tensor'>\n",
      "cpu\n"
     ]
    }
   ],
   "source": [
    "# Pytorch tensor 2D\n",
    "print(tensor_2D.shape)\n",
    "print(tensor_2D.dtype)\n",
    "print(type(tensor_2D))\n",
    "print(tensor_2D.device)"
   ]
  },
  {
   "cell_type": "code",
   "execution_count": null,
   "metadata": {},
   "outputs": [],
   "source": []
  }
 ],
 "metadata": {
  "kernelspec": {
   "display_name": "chaupmbn",
   "language": "python",
   "name": "python3"
  },
  "language_info": {
   "codemirror_mode": {
    "name": "ipython",
    "version": 3
   },
   "file_extension": ".py",
   "mimetype": "text/x-python",
   "name": "python",
   "nbconvert_exporter": "python",
   "pygments_lexer": "ipython3",
   "version": "3.10.14"
  }
 },
 "nbformat": 4,
 "nbformat_minor": 2
}
