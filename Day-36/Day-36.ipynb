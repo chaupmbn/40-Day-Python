{
 "cells": [
  {
   "cell_type": "code",
   "execution_count": 1,
   "id": "a38241d3-d584-412e-8032-15187060f575",
   "metadata": {},
   "outputs": [],
   "source": [
    "import sqlite3\n",
    "import pandas as pd"
   ]
  },
  {
   "cell_type": "code",
   "execution_count": 2,
   "id": "25a6c959-6d29-4f11-b780-7620ab822da4",
   "metadata": {},
   "outputs": [],
   "source": [
    "con = sqlite3.connect('sqlite2.db')\n",
    "cur = con.cursor()"
   ]
  },
  {
   "cell_type": "code",
   "execution_count": 3,
   "id": "5eff6195-ea48-4c66-9554-1af409824bb0",
   "metadata": {},
   "outputs": [
    {
     "data": {
      "text/plain": [
       "<sqlite3.Cursor at 0x12472eb40>"
      ]
     },
     "execution_count": 3,
     "metadata": {},
     "output_type": "execute_result"
    }
   ],
   "source": [
    "cur.execute(\"\"\"\n",
    "CREATE TABLE STOCK (\n",
    "    ID INTEGER PRIMARY KEY,\n",
    "    NAME TEXT NOT NULL,\n",
    "    BUY INTERGER NOT NULL,\n",
    "    INVESTOR TEXT NOT NULL\n",
    ");\n",
    "\"\"\")"
   ]
  },
  {
   "cell_type": "code",
   "execution_count": 5,
   "id": "a16438a0-2673-410f-87e6-a653ae8aedfe",
   "metadata": {},
   "outputs": [],
   "source": [
    "cur.execute(\"\"\"\n",
    "INSERT INTO STOCK(ID, NAME, BUY, INVESTOR)\n",
    "VALUES\n",
    "    ('1', 'ACB', '29.45', 'Nguyen'),\n",
    "    ('2', 'VIC', '44.55', 'Nguyen'),\n",
    "    ('3', 'GMD', '74.30', 'Nguyen'),\n",
    "    ('4', 'ACB', '28.45', 'Vinh'),\n",
    "    ('5', 'VIC', '40.55', 'Vinh'),\n",
    "    ('6', 'GMD', '60.30', 'Vinh')\n",
    "\"\"\")\n",
    "con.commit()"
   ]
  },
  {
   "cell_type": "code",
   "execution_count": 7,
   "id": "6e566705-9218-4a07-88e0-18eab1686b88",
   "metadata": {},
   "outputs": [
    {
     "name": "stdout",
     "output_type": "stream",
     "text": [
      "   ID NAME    BUY INVESTOR\n",
      "0   1  ACB  29.45   Nguyen\n",
      "1   2  VIC  44.55   Nguyen\n",
      "2   3  GMD  74.30   Nguyen\n",
      "3   4  ACB  28.45     Vinh\n",
      "4   5  VIC  40.55     Vinh\n",
      "5   6  GMD  60.30     Vinh\n"
     ]
    }
   ],
   "source": [
    "data = pd.read_sql_query(\"SELECT * FROM STOCK\", con)\n",
    "print(data)"
   ]
  },
  {
   "cell_type": "code",
   "execution_count": 10,
   "id": "85e83d6f-728b-422d-907a-cac221f6655d",
   "metadata": {},
   "outputs": [
    {
     "name": "stdout",
     "output_type": "stream",
     "text": [
      "   TOTAL_BUY\n",
      "0      277.6\n"
     ]
    }
   ],
   "source": [
    "# Câu 1: In ra kết quả thống kê tổng giá mua (BUY) của bảng STOCK:\n",
    "query = \"\"\"\n",
    "SELECT SUM(BUY) AS TOTAL_BUY\n",
    "FROM STOCK;\n",
    "\"\"\"\n",
    "data_sum = pd.read_sql_query(query, con)\n",
    "print(data_sum)"
   ]
  },
  {
   "cell_type": "code",
   "execution_count": 13,
   "id": "9a81cea4-2546-4b0f-874a-6192f26f34dd",
   "metadata": {},
   "outputs": [
    {
     "name": "stdout",
     "output_type": "stream",
     "text": [
      "  INVESTOR NAME  MAX_PRICE\n",
      "0   Nguyen  GMD       74.3\n",
      "1     Vinh  GMD       60.3\n"
     ]
    }
   ],
   "source": [
    "# Câu 2: Thống kê mã cổ phiếu có giá mua (BUY) lớn nhất theo nhà đầu tư (INVESTOR):\n",
    "query = \"\"\"\n",
    "SELECT INVESTOR, NAME, MAX(BUY) AS MAX_PRICE\n",
    "FROM STOCK\n",
    "GROUP BY INVESTOR;\n",
    "\"\"\"\n",
    "data_max = pd.read_sql_query(query, con)\n",
    "print(data_max)"
   ]
  },
  {
   "cell_type": "code",
   "execution_count": null,
   "id": "95e3e4c3-6b0c-494b-b3da-c9bf3c0c1264",
   "metadata": {},
   "outputs": [],
   "source": []
  }
 ],
 "metadata": {
  "kernelspec": {
   "display_name": "Python 3 (ipykernel)",
   "language": "python",
   "name": "python3"
  },
  "language_info": {
   "codemirror_mode": {
    "name": "ipython",
    "version": 3
   },
   "file_extension": ".py",
   "mimetype": "text/x-python",
   "name": "python",
   "nbconvert_exporter": "python",
   "pygments_lexer": "ipython3",
   "version": "3.10.14"
  }
 },
 "nbformat": 4,
 "nbformat_minor": 5
}
