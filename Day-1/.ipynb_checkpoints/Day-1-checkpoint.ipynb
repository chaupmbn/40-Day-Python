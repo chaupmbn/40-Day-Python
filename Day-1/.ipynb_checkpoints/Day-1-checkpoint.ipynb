{
 "cells": [
  {
   "cell_type": "markdown",
   "metadata": {},
   "source": [
    "## ĐỀ BÀI:\n",
    "Can chi là một hệ thống tính toán giờ, ngày, tháng, năm âm lịch của người Trung Quốc cổ đại. Can Chi có 10 thiên can và 12 địa chi. Tên gọi 10 thiên can là: Canh, Tân, Nhâm, Quý, Giáp, Ất, Bính, Đinh, Mậu, Kỷ. Tên gọi của 12 địa chi là: Thân, Dậu, Tuất, Hợi, Tý, Sửu, Dần, Mão, Thìn, Tỵ, Ngọ, Mùi.\n",
    "### CÁCH TÍNH:\n",
    "Tính can chi, dựa vào các quy tắc sau:\n",
    "+ Can: lấy năm chia cho 10 và lấy phần dư. Phần dư từ 0 đến 9 tương ứng với từ Canh đến Kỷ.  \n",
    "|Phần dư|0|1|2|3|4|5|6|7|8|9|  \n",
    "|-------|--|--|--|--|--|-|-|-|-|-|  \n",
    "|Can|Canh|Tân|Nhâm|Quý|Giáp|Ất|Bính|Đinh|Mậu|Kỷ|  \n",
    "+ Chi: lấy năm chia cho 12 và lấy phần dư. Phần dư từ 0 đến 11 tương ứng với từ Thân đến Mùi.  \n",
    "|Phần dư|0|1|2|3|4|5|6|7|8|9|10|11|  \n",
    "|-------|--|--|--|--|--|-|-|-|-|-|-|-|\n",
    "|Chi|Thân|Dậu|Tuất|Hợi|Tý|Sửu|Dần|Mão|Thìn|Tỵ|Ngọ|Mùi|  "
   ]
  },
  {
   "cell_type": "code",
   "execution_count": 2,
   "metadata": {},
   "outputs": [
    {
     "name": "stdout",
     "output_type": "stream",
     "text": [
      "Năm 2024 là năm Giáp Thìn\n",
      "Năm 2023 là năm Quý Mão\n",
      "Năm 1997 là năm Đinh Sửu\n"
     ]
    }
   ],
   "source": [
    "# Cách 1: Sử dụng if-else\n",
    "def calculate_can_chi_calendar1(year):\n",
    "    result = ''\n",
    "    can = year%10\n",
    "    chi = year%12\n",
    "    if can == 0:\n",
    "        result = 'Canh'\n",
    "    elif can == 1:\n",
    "        result = 'Tân'\n",
    "    elif can == 2:\n",
    "        result = 'Nhâm'\n",
    "    elif can == 3:\n",
    "        result = 'Quý'\n",
    "    elif can == 4:\n",
    "        result = 'Giáp'\n",
    "    elif can == 5:\n",
    "        result = 'Ất'\n",
    "    elif can == 6:\n",
    "        result = 'Bính'\n",
    "    elif can == 7:\n",
    "        result = 'Đinh'\n",
    "    elif can == 8:\n",
    "        result = 'Mậu'\n",
    "    elif can == 9:\n",
    "        result = 'Kỷ'\n",
    "    if chi == 0:\n",
    "        result += ' Thân'\n",
    "    elif chi == 1:\n",
    "        result += ' Dậu'\n",
    "    elif chi == 2:\n",
    "        result += ' Tuất'\n",
    "    elif chi == 3:\n",
    "        result += ' Hợi'\n",
    "    elif chi == 4:\n",
    "        result += ' Tý'\n",
    "    elif chi == 5:\n",
    "        result += ' Sửu'\n",
    "    elif chi == 6:\n",
    "        result += ' Dần'\n",
    "    elif chi == 7:\n",
    "        result += ' Mão'\n",
    "    elif chi == 8:\n",
    "        result += ' Thìn'\n",
    "    elif chi == 9:\n",
    "        result += ' Tỵ'\n",
    "    elif chi == 10:\n",
    "        result += ' Ngọ'\n",
    "    elif chi == 11:\n",
    "        result += ' Mùi'\n",
    "    return print(f'Năm {year} là năm {result}')\n",
    "calculate_can_chi_calendar1(2024)\n",
    "calculate_can_chi_calendar1(2023)\n",
    "calculate_can_chi_calendar1(1997)"
   ]
  },
  {
   "cell_type": "code",
   "execution_count": 3,
   "metadata": {},
   "outputs": [
    {
     "name": "stdout",
     "output_type": "stream",
     "text": [
      "Năm 2024 là năm Giáp Thìn\n",
      "Năm 2023 là năm Quý Mão\n",
      "Năm 1997 là năm Đinh Sửu\n"
     ]
    }
   ],
   "source": [
    "# Cách 2: Sử dụng list\n",
    "def calculate_can_chi_calendar2(year):\n",
    "    result = ''\n",
    "    can_list = ['Canh', 'Tân', 'Nhâm', 'Quý', 'Giáp', 'Ất', 'Bính', 'Đinh', 'Mậu', 'Kỷ']\n",
    "    chi_list = ['Thân', 'Dậu', 'Tuất', 'Hợi', 'Tý', 'Sửu', 'Dần', 'Mão', 'Thìn', 'Tỵ', 'Ngọ', 'Mùi']\n",
    "    can = year%10\n",
    "    chi = year%12\n",
    "    result = can_list[can] + ' ' + chi_list[chi]\n",
    "    return print(f'Năm {year} là năm {result}')\n",
    "calculate_can_chi_calendar2(2024)\n",
    "calculate_can_chi_calendar2(2023)\n",
    "calculate_can_chi_calendar2(1997)"
   ]
  },
  {
   "cell_type": "code",
   "execution_count": null,
   "metadata": {},
   "outputs": [],
   "source": []
  }
 ],
 "metadata": {
  "kernelspec": {
   "display_name": "Python 3 (ipykernel)",
   "language": "python",
   "name": "python3"
  },
  "language_info": {
   "codemirror_mode": {
    "name": "ipython",
    "version": 3
   },
   "file_extension": ".py",
   "mimetype": "text/x-python",
   "name": "python",
   "nbconvert_exporter": "python",
   "pygments_lexer": "ipython3",
   "version": "3.10.14"
  }
 },
 "nbformat": 4,
 "nbformat_minor": 4
}
