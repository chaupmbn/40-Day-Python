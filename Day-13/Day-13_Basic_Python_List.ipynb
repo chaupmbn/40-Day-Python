{
 "cells": [
  {
   "cell_type": "markdown",
   "metadata": {},
   "source": [
    "### Bài tập:\n",
    "Tạo List có tên là lst_data = [1, 1.1, None, 1.4, None, 1.5, None, 2.0]. Sau đó áp dụng phương pháp tìm kiếm để tìm vị trí có giá trị None trong lst_data theo 2 cách: tìm vị trí None đầu tiên và tìm tất cả vị trí có giá trị None"
   ]
  },
  {
   "cell_type": "code",
   "execution_count": 2,
   "metadata": {},
   "outputs": [],
   "source": [
    "lst_data = [1, 1.1, None, 1.4, None, 1.5, None, 2.0]"
   ]
  },
  {
   "cell_type": "code",
   "execution_count": 3,
   "metadata": {},
   "outputs": [
    {
     "name": "stdout",
     "output_type": "stream",
     "text": [
      "Vị trí (index) đầu tiên có giá trị None là: 2\n"
     ]
    }
   ],
   "source": [
    "# Tìm vị trí có giá trị None đầu tiên:\n",
    "for idx, data in enumerate(lst_data):\n",
    "    if data == None:\n",
    "        print(f\"Vị trí (index) đầu tiên có giá trị None là: {idx}\")\n",
    "        break"
   ]
  },
  {
   "cell_type": "code",
   "execution_count": 5,
   "metadata": {},
   "outputs": [
    {
     "name": "stdout",
     "output_type": "stream",
     "text": [
      "Các vị trí (index) có giá trị None là: [2, 4, 6]\n"
     ]
    }
   ],
   "source": [
    "# Tìm tất cả các vị trí có giá trị None:\n",
    "index = []\n",
    "for idx, data in enumerate(lst_data):\n",
    "    if data == None:\n",
    "        index.append(idx)\n",
    "print(f\"Các vị trí (index) có giá trị None là: {index}\")"
   ]
  },
  {
   "cell_type": "code",
   "execution_count": null,
   "metadata": {},
   "outputs": [],
   "source": []
  }
 ],
 "metadata": {
  "kernelspec": {
   "display_name": "chaupmbn",
   "language": "python",
   "name": "python3"
  },
  "language_info": {
   "codemirror_mode": {
    "name": "ipython",
    "version": 3
   },
   "file_extension": ".py",
   "mimetype": "text/x-python",
   "name": "python",
   "nbconvert_exporter": "python",
   "pygments_lexer": "ipython3",
   "version": "3.10.14"
  }
 },
 "nbformat": 4,
 "nbformat_minor": 2
}
