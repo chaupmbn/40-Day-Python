{
 "cells": [
  {
   "cell_type": "markdown",
   "metadata": {},
   "source": [
    "### Bài tập:\n",
    "Tạo List có tên là lst_data = [1, 1.1, None, 1.4, None, 1.5, None, 2.0]. sau đó áp dụng phương pháp nội suy **Nearest Neighbor** để gắn giá trị None có trong lst_data"
   ]
  },
  {
   "cell_type": "code",
   "execution_count": 1,
   "metadata": {},
   "outputs": [
    {
     "data": {
      "text/plain": [
       "[1, 1.1, 1.1, 1.4, 1.4, 1.5, 1.5, 2.0]"
      ]
     },
     "execution_count": 1,
     "metadata": {},
     "output_type": "execute_result"
    }
   ],
   "source": [
    "lst_data = [1, 1.1, None, 1.4, None, 1.5, None, 2.0]\n",
    "for idx, data in enumerate(lst_data):\n",
    "    if data == None:\n",
    "        if lst_data[idx-1] != None and lst_data[idx+1] != None:    \n",
    "            if lst_data[idx-1] <= lst_data[idx+1]:\n",
    "                lst_data[idx] = lst_data[idx-1]\n",
    "            else:\n",
    "                lst_data[idx] = lst_data[idx+1]\n",
    "        elif lst_data[idx-1] == None and lst_data[idx+1] != None :\n",
    "            lst_data[idx] = lst_data[idx+1]\n",
    "        else:\n",
    "            lst_data[idx] = lst_data[idx-1]\n",
    "lst_data\n",
    "    "
   ]
  },
  {
   "cell_type": "code",
   "execution_count": null,
   "metadata": {},
   "outputs": [],
   "source": []
  }
 ],
 "metadata": {
  "kernelspec": {
   "display_name": "chaupmbn",
   "language": "python",
   "name": "python3"
  },
  "language_info": {
   "codemirror_mode": {
    "name": "ipython",
    "version": 3
   },
   "file_extension": ".py",
   "mimetype": "text/x-python",
   "name": "python",
   "nbconvert_exporter": "python",
   "pygments_lexer": "ipython3",
   "version": "3.10.14"
  }
 },
 "nbformat": 4,
 "nbformat_minor": 2
}
