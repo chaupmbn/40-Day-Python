{
 "cells": [
  {
   "cell_type": "markdown",
   "metadata": {},
   "source": [
    "### Bài tập 1:\n",
    "Trong NLP, chúng ta cần loại bỏ 1 số từ không quan trọng (stopwords) ra khỏi câu để tránh gây nhiễu trogn việc xử lý. Hãy loại bỏ các từ có trong stop_words = [\"I\", \"love\", \"and\", \"to\"], câu đầu vào **\"I love Ai and lissten to music\"**. Hãy áp dụng **List comprehension** và For truyền thống để thực hiện\n"
   ]
  },
  {
   "cell_type": "code",
   "execution_count": 1,
   "metadata": {},
   "outputs": [],
   "source": [
    "stop_words = [\"I\", \"love\", \"and\", \"to\"]\n",
    "input = \"I love Ai and lissten to music\""
   ]
  },
  {
   "cell_type": "code",
   "execution_count": 2,
   "metadata": {},
   "outputs": [
    {
     "name": "stdout",
     "output_type": "stream",
     "text": [
      "['Ai', 'lissten', 'music']\n"
     ]
    }
   ],
   "source": [
    "input_split = input.split()\n",
    "output = [word for word in input_split if word not in stop_words]\n",
    "print(output)"
   ]
  },
  {
   "cell_type": "markdown",
   "metadata": {},
   "source": [
    "### Bài tập 2:"
   ]
  },
  {
   "cell_type": "code",
   "execution_count": 3,
   "metadata": {},
   "outputs": [],
   "source": [
    "# Tạo mới hay tuple: my_tuple1 = (2,3) và my_tuple2 = (3,6), mỗi tuple có 2 phần tử đại diện cho một vector trong không gian 2D\n",
    "my_tuple1 = (2,3)\n",
    "my_tuple2 = (3,6)"
   ]
  },
  {
   "cell_type": "code",
   "execution_count": 4,
   "metadata": {},
   "outputs": [
    {
     "name": "stdout",
     "output_type": "stream",
     "text": [
      "Tổng và tích của vector (2, 3) là: (5, 6)\n",
      "Tổng và tích của vector (3, 6) là: (9, 18)\n"
     ]
    }
   ],
   "source": [
    "# In ra kết quả của tổng và tích 2 vector trên\n",
    "def sum_product(tuple):\n",
    "    sum = 0\n",
    "    product = 1\n",
    "    for i in range(len(tuple)):\n",
    "        sum += tuple[i]\n",
    "        product *= tuple[i]\n",
    "    print(f\"Tổng và tích của vector {tuple} là: {(sum,product)}\")\n",
    "sum_product(my_tuple1)\n",
    "sum_product(my_tuple2)"
   ]
  },
  {
   "cell_type": "code",
   "execution_count": 5,
   "metadata": {},
   "outputs": [
    {
     "name": "stdout",
     "output_type": "stream",
     "text": [
      "Khoảng cách giữa 2 vector (2, 3) và (3, 6) = 3.1622776601683795\n"
     ]
    }
   ],
   "source": [
    "# In ra kết quả khoảng cách cảu 2 vector trên\n",
    "def distance(tuple1,tuple2):\n",
    "    sum = 0\n",
    "    for i in range(len(tuple1)):\n",
    "        sum += (tuple1[i]-tuple2[i])**2\n",
    "    result = sum**0.5\n",
    "    return result\n",
    "distance = distance(my_tuple1,my_tuple2)\n",
    "print(f\"Khoảng cách giữa 2 vector {my_tuple1} và {my_tuple2} = {distance}\")"
   ]
  },
  {
   "cell_type": "code",
   "execution_count": 6,
   "metadata": {},
   "outputs": [
    {
     "name": "stdout",
     "output_type": "stream",
     "text": [
      "index = (1, 0)\n"
     ]
    }
   ],
   "source": [
    "#In ra vị trí của phần tử có giá trị là 3\n",
    "index = (my_tuple1.index(3), my_tuple2.index(3))\n",
    "print(f\"index = {index}\")"
   ]
  },
  {
   "cell_type": "code",
   "execution_count": null,
   "metadata": {},
   "outputs": [],
   "source": []
  }
 ],
 "metadata": {
  "kernelspec": {
   "display_name": "chaupmbn",
   "language": "python",
   "name": "python3"
  },
  "language_info": {
   "codemirror_mode": {
    "name": "ipython",
    "version": 3
   },
   "file_extension": ".py",
   "mimetype": "text/x-python",
   "name": "python",
   "nbconvert_exporter": "python",
   "pygments_lexer": "ipython3",
   "version": "3.10.14"
  }
 },
 "nbformat": 4,
 "nbformat_minor": 2
}
