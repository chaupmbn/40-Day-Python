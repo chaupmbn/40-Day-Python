{
 "cells": [
  {
   "cell_type": "markdown",
   "id": "bc5c3784",
   "metadata": {},
   "source": [
    "### Bài tập:\n",
    "Hãy tạo mới bảng có tên *PRODUCT* có các cột như sau:\n",
    "||**PRODUCT**||\n",
    "|--|-------|--|\n",
    "|**Cột**|**Kiểu dữ liệu**|**Chú thích**|\n",
    "|ID|INTEGER|Khóa chính|\n",
    "|NAME|TEXT|Not null|\n",
    "|PRICE|INTEGER|Not null|"
   ]
  },
  {
   "cell_type": "code",
   "execution_count": 1,
   "id": "a38241d3-d584-412e-8032-15187060f575",
   "metadata": {},
   "outputs": [],
   "source": [
    "import sqlite3\n",
    "import pandas as pd"
   ]
  },
  {
   "cell_type": "code",
   "execution_count": 3,
   "id": "25a6c959-6d29-4f11-b780-7620ab822da4",
   "metadata": {},
   "outputs": [],
   "source": [
    "con = sqlite3.connect('sqlite.db')\n",
    "cur = con.cursor()"
   ]
  },
  {
   "cell_type": "code",
   "execution_count": 4,
   "id": "5eff6195-ea48-4c66-9554-1af409824bb0",
   "metadata": {},
   "outputs": [
    {
     "data": {
      "text/plain": [
       "<sqlite3.Cursor at 0x112fb2bc0>"
      ]
     },
     "execution_count": 4,
     "metadata": {},
     "output_type": "execute_result"
    }
   ],
   "source": [
    "cur.execute(\"\"\"\n",
    "CREATE TABLE PRODUCT (\n",
    "    ID INTEGER PRIMARY KEY,\n",
    "    NAME TEXT NOT NULL,\n",
    "    PRICE INTEGER NOT NULL\n",
    ");\n",
    "\"\"\")"
   ]
  },
  {
   "cell_type": "markdown",
   "id": "bb8d6b93-0dca-4c20-8e53-82d4252658ce",
   "metadata": {},
   "source": [
    "#### Câu 1:\n",
    "Hãy thêm mới các dòng có giá trị như sau và kiểm tra kết quả:\n",
    "||**PRODUCT**||\n",
    "|--|-------|--|\n",
    "|**ID**|**NAME**|**PRICE**|\n",
    "|1|iPhone 15|18000000|\n",
    "|2|Galaxy Z-Fold 5|30000000|"
   ]
  },
  {
   "cell_type": "code",
   "execution_count": 6,
   "id": "a16438a0-2673-410f-87e6-a653ae8aedfe",
   "metadata": {},
   "outputs": [],
   "source": [
    "cur.execute(\"\"\"\n",
    "INSERT INTO PRODUCT(ID, NAME, PRICE)\n",
    "VALUES\n",
    "    ('1', 'iPhone 15', '18000000'),\n",
    "    ('2', 'Galaxy Z-Fold 5', '30000000')\n",
    "\"\"\")\n",
    "con.commit()"
   ]
  },
  {
   "cell_type": "code",
   "execution_count": 7,
   "id": "6e566705-9218-4a07-88e0-18eab1686b88",
   "metadata": {},
   "outputs": [
    {
     "name": "stdout",
     "output_type": "stream",
     "text": [
      "   ID             NAME     PRICE\n",
      "0   1        iPhone 15  18000000\n",
      "1   2  Galaxy Z-Fold 5  30000000\n"
     ]
    }
   ],
   "source": [
    "data = pd.read_sql_query(\"SELECT * FROM PRODUCT\", con)\n",
    "print(data)"
   ]
  },
  {
   "cell_type": "markdown",
   "id": "7bace25e-4ee5-452f-a702-f64685156550",
   "metadata": {},
   "source": [
    "#### Câu 2:\n",
    "Hãy cập nhật giá mới cho Galaxy Z-Fold 5 thành 50.000.000 và kiểm tra\n",
    "kết quả:"
   ]
  },
  {
   "cell_type": "code",
   "execution_count": 8,
   "id": "85e83d6f-728b-422d-907a-cac221f6655d",
   "metadata": {},
   "outputs": [],
   "source": [
    "cur.execute(\"\"\"\n",
    "UPDATE PRODUCT\n",
    "SET PRICE = '50000000'\n",
    "WHERE NAME = 'Galaxy Z-Fold 5'\n",
    "\"\"\")\n",
    "con.commit()"
   ]
  },
  {
   "cell_type": "code",
   "execution_count": 10,
   "id": "9a81cea4-2546-4b0f-874a-6192f26f34dd",
   "metadata": {},
   "outputs": [
    {
     "name": "stdout",
     "output_type": "stream",
     "text": [
      "   ID             NAME     PRICE\n",
      "0   1        iPhone 15  18000000\n",
      "1   2  Galaxy Z-Fold 5  50000000\n"
     ]
    }
   ],
   "source": [
    "data = pd.read_sql_query(\"SELECT * FROM PRODUCT\", con)\n",
    "print(data)"
   ]
  },
  {
   "cell_type": "code",
   "execution_count": 11,
   "id": "321d9afb-cb89-46c6-9721-1d32b7a2bd4a",
   "metadata": {},
   "outputs": [],
   "source": [
    "cur.execute(\"\"\"\n",
    "DELETE FROM PRODUCT\n",
    "WHERE NAME = 'iPhone 15'\n",
    "\"\"\")\n",
    "con.commit()"
   ]
  },
  {
   "cell_type": "code",
   "execution_count": 12,
   "id": "ac58abc5-ffc8-4f05-a035-8c8c87d9857d",
   "metadata": {},
   "outputs": [
    {
     "name": "stdout",
     "output_type": "stream",
     "text": [
      "   ID             NAME     PRICE\n",
      "0   2  Galaxy Z-Fold 5  50000000\n"
     ]
    }
   ],
   "source": [
    "data = pd.read_sql_query(\"SELECT * FROM PRODUCT\", con)\n",
    "print(data)"
   ]
  },
  {
   "cell_type": "code",
   "execution_count": null,
   "id": "95e3e4c3-6b0c-494b-b3da-c9bf3c0c1264",
   "metadata": {},
   "outputs": [],
   "source": []
  }
 ],
 "metadata": {
  "kernelspec": {
   "display_name": "Python 3 (ipykernel)",
   "language": "python",
   "name": "python3"
  },
  "language_info": {
   "codemirror_mode": {
    "name": "ipython",
    "version": 3
   },
   "file_extension": ".py",
   "mimetype": "text/x-python",
   "name": "python",
   "nbconvert_exporter": "python",
   "pygments_lexer": "ipython3",
   "version": "3.10.14"
  }
 },
 "nbformat": 4,
 "nbformat_minor": 5
}
