{
 "cells": [
  {
   "cell_type": "markdown",
   "metadata": {},
   "source": [
    "### Bài tập 1:"
   ]
  },
  {
   "cell_type": "code",
   "execution_count": 17,
   "metadata": {},
   "outputs": [
    {
     "name": "stdout",
     "output_type": "stream",
     "text": [
      "[[1, 2, 3], [4, 5, 6], [7, 8, 9]]\n",
      "[[1, 3], [4, 6], [7, 9]]\n"
     ]
    }
   ],
   "source": [
    "# Tạo List 2D có tên là lst_data có dạng 3x3, gồm các số từ 1 đến 9, ứng với các vị trí trong List. Sau đó tạo list khác có tên lst_sub_data là 2D List để lưu giá trị tại vị trí index thứ 0 và thứ 2 của lst_data (chỉ sử dụng For). In ra lst_sub_data\n",
    "lst_data = [[1,2,3],\n",
    "            [4,5,6],\n",
    "            [7,8,9]]\n",
    "lst_sub_data = []\n",
    "for row in lst_data:\n",
    "    row_sub = [row[0], row[2]]\n",
    "    lst_sub_data.append(row_sub)\n",
    "print(lst_data)\n",
    "print(lst_sub_data)\n"
   ]
  },
  {
   "cell_type": "code",
   "execution_count": 18,
   "metadata": {},
   "outputs": [
    {
     "name": "stdout",
     "output_type": "stream",
     "text": [
      "[[1, 3], [4, 6], [7, 9]]\n"
     ]
    }
   ],
   "source": [
    "lst_sub_data = [[lst_data[i][0],lst_data[i][2]]\n",
    "                 for i in range(len(lst_data))]\n",
    "print(lst_sub_data)"
   ]
  },
  {
   "cell_type": "markdown",
   "metadata": {},
   "source": [
    "### Bài tập 2:"
   ]
  },
  {
   "cell_type": "code",
   "execution_count": 20,
   "metadata": {},
   "outputs": [],
   "source": [
    "# Cho 2 ma trận A = [[1,2,3],[4,5,6],[7,8,9]] và B = [[2,4,6],[1,3,5],[1,0,1]]\n",
    "mat_a = [[1,2,3],[4,5,6],[7,8,9]]\n",
    "mat_b = [[2,4,6],[1,3,5],[1,0,1]]"
   ]
  },
  {
   "cell_type": "code",
   "execution_count": 21,
   "metadata": {},
   "outputs": [
    {
     "name": "stdout",
     "output_type": "stream",
     "text": [
      "Tổng 2 ma trận = [[3, 6, 9], [5, 8, 11], [8, 8, 10]]\n",
      "Hiệu 2 ma trận = [[-1, -2, -3], [3, 2, 1], [6, 8, 8]]\n"
     ]
    }
   ],
   "source": [
    "# Tính tổng và hiệu của 2 ma trận\n",
    "mat_sum, mat_sub = [], []\n",
    "for i in range(len(mat_a)):\n",
    "    cal_sum, cal_sub =[], []\n",
    "    for j in range(len(mat_a)):\n",
    "        cal_sum.append(mat_a[i][j]+mat_b[i][j])\n",
    "        cal_sub.append(mat_a[i][j]-mat_b[i][j])\n",
    "    mat_sum.append(cal_sum)\n",
    "    mat_sub.append(cal_sub)\n",
    "print(f\"Tổng 2 ma trận = {mat_sum}\")\n",
    "print(f\"Hiệu 2 ma trận = {mat_sub}\")"
   ]
  },
  {
   "cell_type": "code",
   "execution_count": 22,
   "metadata": {},
   "outputs": [
    {
     "name": "stdout",
     "output_type": "stream",
     "text": [
      "Dot Product = [[7, 10, 19], [19, 31, 55], [31, 52, 91]]\n"
     ]
    }
   ],
   "source": [
    "# Tính dot product của 2 ma trận\n",
    "dot_product = []\n",
    "for i in range(len(mat_a)):\n",
    "    cal_dot = []\n",
    "    for j in range(len(mat_a)):\n",
    "        sum_dot = 0\n",
    "        for k in range(len(mat_a)):\n",
    "            sum_dot += mat_a[i][k] * mat_b[k][j]\n",
    "        cal_dot.append(sum_dot)\n",
    "    dot_product.append(cal_dot)\n",
    "print(f\"Dot Product = {dot_product}\")\n"
   ]
  },
  {
   "cell_type": "code",
   "execution_count": null,
   "metadata": {},
   "outputs": [],
   "source": []
  }
 ],
 "metadata": {
  "kernelspec": {
   "display_name": "chaupmbn",
   "language": "python",
   "name": "python3"
  },
  "language_info": {
   "codemirror_mode": {
    "name": "ipython",
    "version": 3
   },
   "file_extension": ".py",
   "mimetype": "text/x-python",
   "name": "python",
   "nbconvert_exporter": "python",
   "pygments_lexer": "ipython3",
   "version": "3.10.14"
  }
 },
 "nbformat": 4,
 "nbformat_minor": 2
}
