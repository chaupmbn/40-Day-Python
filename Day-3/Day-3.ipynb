{
 "cells": [
  {
   "cell_type": "code",
   "execution_count": 1,
   "metadata": {},
   "outputs": [],
   "source": [
    "def quadric_equation(a,b,c):\n",
    "    x1 = 0\n",
    "    x2 = 0\n",
    "    delta = b**2 - 4*a*c\n",
    "    if a != 0:\n",
    "        if delta > 0:\n",
    "            x1 = (-b - delta**0.5/(2*a))\n",
    "            x2 = (-b + delta**0.5/(2*a))\n",
    "            print(f\" Phương trình có 2 nghiệm riêng biệt x1 = {x1} và x2 = {x2}\")\n",
    "        elif delta == 0:\n",
    "            print(f\"Phương trình có 1 nghiệm duy nhất x = {-b/(2*a)}\")\n",
    "        elif delta < 0:\n",
    "            print(\"Phương trình vô nghiệm\")\n",
    "    elif a == 0:\n",
    "        if b != 0:\n",
    "            print(f\"Phương trình có nghiệm duy nhất x = {-c/b}\")\n",
    "        elif b == 0 and c == 0:\n",
    "            print(\"Phương trình có vô số nghiệm\")\n",
    "        elif b == 0 and c!= 0:\n",
    "            print('Phương trình vô nghiệm')"
   ]
  },
  {
   "cell_type": "code",
   "execution_count": 2,
   "metadata": {},
   "outputs": [
    {
     "name": "stdout",
     "output_type": "stream",
     "text": [
      " Phương trình có 2 nghiệm riêng biệt x1 = -6.5 và x2 = -5.5\n"
     ]
    }
   ],
   "source": [
    "quadric_equation(a=2,b=6,c=4)"
   ]
  },
  {
   "cell_type": "code",
   "execution_count": 3,
   "metadata": {},
   "outputs": [
    {
     "name": "stdout",
     "output_type": "stream",
     "text": [
      "Phương trình có 1 nghiệm duy nhất x = -1.0\n"
     ]
    }
   ],
   "source": [
    "quadric_equation(a=1,b=2,c=1)"
   ]
  },
  {
   "cell_type": "code",
   "execution_count": 4,
   "metadata": {},
   "outputs": [
    {
     "name": "stdout",
     "output_type": "stream",
     "text": [
      "Phương trình vô nghiệm\n"
     ]
    }
   ],
   "source": [
    "quadric_equation(a=4,b=6,c=3)"
   ]
  },
  {
   "cell_type": "code",
   "execution_count": 5,
   "metadata": {},
   "outputs": [
    {
     "name": "stdout",
     "output_type": "stream",
     "text": [
      "Phương trình có nghiệm duy nhất x = -2.5\n"
     ]
    }
   ],
   "source": [
    "quadric_equation(a=0,b=2,c=5)"
   ]
  },
  {
   "cell_type": "code",
   "execution_count": null,
   "metadata": {},
   "outputs": [],
   "source": []
  }
 ],
 "metadata": {
  "kernelspec": {
   "display_name": "chaupmbn",
   "language": "python",
   "name": "python3"
  },
  "language_info": {
   "codemirror_mode": {
    "name": "ipython",
    "version": 3
   },
   "file_extension": ".py",
   "mimetype": "text/x-python",
   "name": "python",
   "nbconvert_exporter": "python",
   "pygments_lexer": "ipython3",
   "version": "3.10.14"
  }
 },
 "nbformat": 4,
 "nbformat_minor": 2
}
