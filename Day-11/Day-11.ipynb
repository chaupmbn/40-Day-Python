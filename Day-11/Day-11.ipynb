{
 "cells": [
  {
   "cell_type": "markdown",
   "metadata": {},
   "source": [
    "### Bài tập:\n",
    "Tạo Bag-Of_Word cho tập dataset sau: corpus = [\"Tôi thích môn Toán\", \"Tôi thích AI\", \"Tôi thích âm nhạc\"]. Sau đó tạo list có tên vector để lưu vector sau khi thực hiện bước Tokenization đoạn văn bản sau: **Tôi thích AI thích Toán**"
   ]
  },
  {
   "cell_type": "code",
   "execution_count": 15,
   "metadata": {},
   "outputs": [
    {
     "name": "stdout",
     "output_type": "stream",
     "text": [
      "['Tôi', 'thích', 'môn', 'Toán', 'AI', 'âm', 'nhạc']\n",
      "['Tôi', 'thích', 'AI', 'thích', 'Toán']\n"
     ]
    }
   ],
   "source": [
    "corpus = [\"Tôi thích môn Toán\", \n",
    "          \"Tôi thích AI\", \n",
    "          \"Tôi thích âm nhạc\"]\n",
    "text = \"Tôi thích AI thích Toán\"\n",
    "vocab = []\n",
    "for element in corpus:\n",
    "    for word in element.split():\n",
    "        if word not in vocab:\n",
    "            vocab.append(word)\n",
    "print(vocab)\n",
    "text_tokenized = text.split()\n",
    "print(text_tokenized)\n"
   ]
  },
  {
   "cell_type": "code",
   "execution_count": 16,
   "metadata": {},
   "outputs": [
    {
     "name": "stdout",
     "output_type": "stream",
     "text": [
      "[1, 1, 0, 1, 1, 0, 0]\n"
     ]
    }
   ],
   "source": [
    "# Binary Bag-Of-Word:\n",
    "binary_vector = []\n",
    "for word in vocab:\n",
    "    if word in text_tokenized:\n",
    "        binary_vector.append(1)\n",
    "    else:\n",
    "        binary_vector.append(0)\n",
    "print(binary_vector)"
   ]
  },
  {
   "cell_type": "code",
   "execution_count": 17,
   "metadata": {},
   "outputs": [
    {
     "name": "stdout",
     "output_type": "stream",
     "text": [
      "[1, 2, 0, 1, 1, 0, 0]\n"
     ]
    }
   ],
   "source": [
    "# Bag-Of-Word:\n",
    "vector = []\n",
    "for word in vocab:\n",
    "    vector.append(text_tokenized.count(word))\n",
    "print(vector)"
   ]
  },
  {
   "cell_type": "code",
   "execution_count": null,
   "metadata": {},
   "outputs": [],
   "source": []
  }
 ],
 "metadata": {
  "kernelspec": {
   "display_name": "chaupmbn",
   "language": "python",
   "name": "python3"
  },
  "language_info": {
   "codemirror_mode": {
    "name": "ipython",
    "version": 3
   },
   "file_extension": ".py",
   "mimetype": "text/x-python",
   "name": "python",
   "nbconvert_exporter": "python",
   "pygments_lexer": "ipython3",
   "version": "3.10.14"
  }
 },
 "nbformat": 4,
 "nbformat_minor": 2
}
