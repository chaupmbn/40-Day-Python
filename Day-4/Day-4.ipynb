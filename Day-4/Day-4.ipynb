{
 "cells": [
  {
   "cell_type": "markdown",
   "metadata": {},
   "source": [
    "### Bài 1:\n",
    "Tạo một biến *name* gán giá trị là tên một người sau đó in ra màn hình một thông báo chưa tên đó sử dụng f-string. Ví dụ *name* = \"Alice\", in ra màn hình nội dung là \"Alice is a great teacher!\""
   ]
  },
  {
   "cell_type": "code",
   "execution_count": 1,
   "metadata": {},
   "outputs": [
    {
     "name": "stdout",
     "output_type": "stream",
     "text": [
      "Alice is a great teacher!\n"
     ]
    }
   ],
   "source": [
    "name = \"Alice\"\n",
    "print(f\"{name} is a great teacher!\")"
   ]
  },
  {
   "cell_type": "markdown",
   "metadata": {},
   "source": [
    "### Bài 2:\n",
    "Tạo một biến và gán giá trị \"ms Taylor\" cho nó, sau đó thực hiện in ra màn hình giá trị biến đó được viết hoa ký tự đầu tiên mỗi từ hoặc viết hoa toàn bộ bằng chữ hoa, hoặc chứ thường."
   ]
  },
  {
   "cell_type": "code",
   "execution_count": 4,
   "metadata": {},
   "outputs": [
    {
     "name": "stdout",
     "output_type": "stream",
     "text": [
      "Ms Taylor\n",
      "MS TAYLOR\n",
      "ms taylor\n"
     ]
    }
   ],
   "source": [
    "name = \"ms Taylor\"\n",
    "print(f\"{name.title()}\")\n",
    "print(f\"{name.upper()}\")\n",
    "print(f\"{name.lower()}\")"
   ]
  },
  {
   "cell_type": "markdown",
   "metadata": {},
   "source": []
  }
 ],
 "metadata": {
  "kernelspec": {
   "display_name": "chaupmbn",
   "language": "python",
   "name": "python3"
  },
  "language_info": {
   "codemirror_mode": {
    "name": "ipython",
    "version": 3
   },
   "file_extension": ".py",
   "mimetype": "text/x-python",
   "name": "python",
   "nbconvert_exporter": "python",
   "pygments_lexer": "ipython3",
   "version": "3.10.14"
  }
 },
 "nbformat": 4,
 "nbformat_minor": 2
}
