{
 "cells": [
  {
   "cell_type": "code",
   "execution_count": 1,
   "metadata": {},
   "outputs": [],
   "source": [
    "import random\n",
    "import numpy as np\n",
    "import torch\n",
    "import tensorflow as tf"
   ]
  },
  {
   "cell_type": "code",
   "execution_count": 14,
   "metadata": {},
   "outputs": [
    {
     "name": "stdout",
     "output_type": "stream",
     "text": [
      "[[5, -5, 8, -1], [-4, 3, -2, 7], [-3, 5, 1, 3]]\n",
      "[[6, 9, -4, -1], [7, 0, 6, -8], [-4, 4, -6, 7]]\n"
     ]
    }
   ],
   "source": [
    "random.seed(2024)\n",
    "# Viết chương trình tạo hai Numpy array, Pytorch tensor, Tensorflow tensor với các giá trị số nguyên ngẫu nhiên trong khoảng [-10,10) với kích thức (3,4). Sau đó chuyển vị array, tensor thứ 2 và thực hiện pháp nhân matrix multiplication. Lưu ý: sử dụng seed = 2024\n",
    "arr1, arr2 = [0] * 3, [0] * 3\n",
    "for i in range(3):\n",
    "    arr1[i], arr2[i] = [0] * 4, [0] * 4\n",
    "for row in arr1:\n",
    "    for idx in range(len(row)):\n",
    "        row[idx] = random.randint(-10,9)\n",
    "for row in arr2:\n",
    "    for idx in range(len(row)):\n",
    "        row[idx] = random.randint(-10,9)\n",
    "print(arr1)\n",
    "print(arr2)"
   ]
  },
  {
   "cell_type": "code",
   "execution_count": 33,
   "metadata": {},
   "outputs": [
    {
     "name": "stdout",
     "output_type": "stream",
     "text": [
      "Numpy Array 1: \n",
      " [[ 5 -5  8 -1]\n",
      " [-4  3 -2  7]\n",
      " [-3  5  1  3]]\n",
      "Numpy Array 2: \n",
      " [[ 6  9 -4 -1]\n",
      " [ 7  0  6 -8]\n",
      " [-4  4 -6  7]]\n",
      "Nhân Numpy Array 1 với Chuyển vị của Numpy Array 2: \n",
      "[[-46  91 -95]\n",
      " [  4 -96  89]\n",
      " [ 20 -39  47]]\n"
     ]
    }
   ],
   "source": [
    "np_arr1 = np.array(arr1)\n",
    "np_arr2 = np.array(arr2)\n",
    "print('Numpy Array 1: \\n', np_arr1)\n",
    "print('Numpy Array 2: \\n', np_arr2)\n",
    "print(f'Nhân Numpy Array 1 với Chuyển vị của Numpy Array 2: \\n{np.matmul(np_arr1,np_arr2.T)}')\n"
   ]
  },
  {
   "cell_type": "code",
   "execution_count": 28,
   "metadata": {},
   "outputs": [
    {
     "name": "stdout",
     "output_type": "stream",
     "text": [
      "Torch Tensor 1: \n",
      " tensor([[ 5, -5,  8, -1],\n",
      "        [-4,  3, -2,  7],\n",
      "        [-3,  5,  1,  3]])\n",
      "Torch Tensor 2: \n",
      " tensor([[ 6,  9, -4, -1],\n",
      "        [ 7,  0,  6, -8],\n",
      "        [-4,  4, -6,  7]])\n",
      "Nhân Tensor 1 với Chuyển vị của Tensor 2: \n",
      "tensor([[-46,  91, -95],\n",
      "        [  4, -96,  89],\n",
      "        [ 20, -39,  47]])\n"
     ]
    }
   ],
   "source": [
    "tensor1 = torch.tensor(arr1)\n",
    "tensor2 = torch.tensor(arr2)\n",
    "print('Torch Tensor 1: \\n', tensor1)\n",
    "print('Torch Tensor 2: \\n', tensor2)\n",
    "print(f'Nhân Tensor 1 với Chuyển vị của Tensor 2: \\n{torch.matmul(tensor1,tensor2.T)}')"
   ]
  },
  {
   "cell_type": "code",
   "execution_count": 31,
   "metadata": {},
   "outputs": [
    {
     "name": "stdout",
     "output_type": "stream",
     "text": [
      "Torch Tensor 1: \n",
      " tf.Tensor(\n",
      "[[ 5 -5  8 -1]\n",
      " [-4  3 -2  7]\n",
      " [-3  5  1  3]], shape=(3, 4), dtype=int32)\n",
      "Torch Tensor 2: \n",
      " tf.Tensor(\n",
      "[[ 6  9 -4 -1]\n",
      " [ 7  0  6 -8]\n",
      " [-4  4 -6  7]], shape=(3, 4), dtype=int32)\n",
      "Nhân Tensor 1 với Chuyển vị của Tensor 2: \n",
      "[[-46  91 -95]\n",
      " [  4 -96  89]\n",
      " [ 20 -39  47]]\n"
     ]
    }
   ],
   "source": [
    "tf_tensor1 = tf.constant(arr1)\n",
    "tf_tensor2 = tf.constant(arr2)\n",
    "print('Torch Tensor 1: \\n', tf_tensor1)\n",
    "print('Torch Tensor 2: \\n', tf_tensor2)\n",
    "print(f'Nhân Tensor 1 với Chuyển vị của Tensor 2: \\n{tf.matmul(tensor1,tf.transpose(tensor2))}')"
   ]
  },
  {
   "cell_type": "code",
   "execution_count": 35,
   "metadata": {},
   "outputs": [
    {
     "name": "stdout",
     "output_type": "stream",
     "text": [
      "[[-4, 3, -3], [-4, -9, -3], [-10, -2, 6]]\n"
     ]
    }
   ],
   "source": [
    "# Viết chương trình tạo một Numpy array, Pytorch tensor, Tensorflow tensor với các giá trị số nguyên ngẫu nhiên trong khoảng [-10,10) với kích thức (3,3). Sau đó hãy tính tổng của toàn bộ tensor, array, tiếp theo tính tổng theo chiều dọc, chiều ngang. Lưu ý sử dụng seed = 2024\n",
    "arr3 = [0] * 3\n",
    "for i in range(3):\n",
    "    arr3[i] = [0] * 3\n",
    "for row in arr3:\n",
    "    for idx in range(len(row)):\n",
    "        row[idx] = random.randint(-10,9)\n",
    "print(arr3)"
   ]
  },
  {
   "cell_type": "code",
   "execution_count": 38,
   "metadata": {},
   "outputs": [
    {
     "name": "stdout",
     "output_type": "stream",
     "text": [
      "Numpy Array : \n",
      " [[ -4   3  -3]\n",
      " [ -4  -9  -3]\n",
      " [-10  -2   6]]\n",
      "Tổng của toàn bộ Numpy Array: \n",
      "-26\n",
      "Tổng của Numpy Array theo cột: \n",
      "[-18  -8   0]\n",
      "Tổng của Numpy Array theo hàng: \n",
      "[ -4 -16  -6]\n"
     ]
    }
   ],
   "source": [
    "np_arr3 = np.array(arr3)\n",
    "print('Numpy Array : \\n', np_arr3)\n",
    "print(f'Tổng của toàn bộ Numpy Array: \\n{np.sum(np_arr3)}')\n",
    "print(f'Tổng của Numpy Array theo cột: \\n{np.sum(np_arr3, axis=0)}')\n",
    "print(f'Tổng của Numpy Array theo hàng: \\n{np.sum(np_arr3, axis=1)}')"
   ]
  },
  {
   "cell_type": "code",
   "execution_count": 40,
   "metadata": {},
   "outputs": [
    {
     "name": "stdout",
     "output_type": "stream",
     "text": [
      "Torch Tensor : \n",
      " tensor([[ -4.,   3.,  -3.],\n",
      "        [ -4.,  -9.,  -3.],\n",
      "        [-10.,  -2.,   6.]])\n",
      "Tổng của toàn bộ Torch Tensor: \n",
      "-26.0\n",
      "Tổng của Torch Tensor theo cột: \n",
      "tensor([-18.,  -8.,   0.])\n",
      "Tổng của Torch Tensor theo hàng: \n",
      "tensor([ -4., -16.,  -6.])\n"
     ]
    }
   ],
   "source": [
    "tensor3 = torch.Tensor(arr3)\n",
    "print('Torch Tensor : \\n', tensor3)\n",
    "print(f'Tổng của toàn bộ Torch Tensor: \\n{torch.sum(tensor3)}')\n",
    "print(f'Tổng của Torch Tensor theo cột: \\n{torch.sum(tensor3, axis=0)}')\n",
    "print(f'Tổng của Torch Tensor theo hàng: \\n{torch.sum(tensor3, axis=1)}')"
   ]
  },
  {
   "cell_type": "code",
   "execution_count": 43,
   "metadata": {},
   "outputs": [
    {
     "name": "stdout",
     "output_type": "stream",
     "text": [
      "Tensor : \n",
      " tf.Tensor(\n",
      "[[ -4   3  -3]\n",
      " [ -4  -9  -3]\n",
      " [-10  -2   6]], shape=(3, 3), dtype=int32)\n",
      "Tổng của toàn bộ Tensor: \n",
      "-26\n",
      "Tổng của Tensor theo cột: \n",
      "[-18  -8   0]\n",
      "Tổng của Tensor theo hàng: \n",
      "[ -4 -16  -6]\n"
     ]
    }
   ],
   "source": [
    "tf.tensor3 = tf.constant(arr3)\n",
    "print('Tensor : \\n', tf.tensor3)\n",
    "print(f'Tổng của toàn bộ Tensor: \\n{tf.reduce_sum(tf.tensor3)}')\n",
    "print(f'Tổng của Tensor theo cột: \\n{tf.reduce_sum(tf.tensor3, axis=0)}')\n",
    "print(f'Tổng của Tensor theo hàng: \\n{tf.reduce_sum(tf.tensor3, axis=1)}')"
   ]
  }
 ],
 "metadata": {
  "kernelspec": {
   "display_name": "Python 3",
   "language": "python",
   "name": "python3"
  },
  "language_info": {
   "codemirror_mode": {
    "name": "ipython",
    "version": 3
   },
   "file_extension": ".py",
   "mimetype": "text/x-python",
   "name": "python",
   "nbconvert_exporter": "python",
   "pygments_lexer": "ipython3",
   "version": "3.10.14"
  }
 },
 "nbformat": 4,
 "nbformat_minor": 2
}
