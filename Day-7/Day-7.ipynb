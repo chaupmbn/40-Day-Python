{
 "cells": [
  {
   "cell_type": "code",
   "execution_count": 9,
   "metadata": {},
   "outputs": [
    {
     "data": {
      "text/plain": [
       "[2, 4, 6, 8, 10, 12]"
      ]
     },
     "execution_count": 9,
     "metadata": {},
     "output_type": "execute_result"
    }
   ],
   "source": [
    "# Tạo mới 1 list tên là lst_data, gồm các số chẵn từ 1 đến 12\n",
    "lst_data = [i for i in range(1,13) if i%2 == 0]\n",
    "lst_data"
   ]
  },
  {
   "cell_type": "code",
   "execution_count": 10,
   "metadata": {},
   "outputs": [
    {
     "data": {
      "text/plain": [
       "[2, 4, 8, 10]"
      ]
     },
     "execution_count": 10,
     "metadata": {},
     "output_type": "execute_result"
    }
   ],
   "source": [
    "# Xóa tất cả các số chia hết cho 3 trong lst_data vừa tạo\n",
    "for data in lst_data:\n",
    "    if data%3 ==0:\n",
    "        lst_data.remove(data)\n",
    "lst_data"
   ]
  },
  {
   "cell_type": "code",
   "execution_count": 11,
   "metadata": {},
   "outputs": [
    {
     "data": {
      "text/plain": [
       "[2, 4, 8, 6, 7, 8, 10, 1, 2, 3]"
      ]
     },
     "execution_count": 11,
     "metadata": {},
     "output_type": "execute_result"
    }
   ],
   "source": [
    "# Thêm vào cuối lst_data các số từ 1 đến 3, và thêm vào vị trí index = 3 một chuỗi các số từ 6 đến 8\n",
    "for i in range(1,4):\n",
    "    lst_data.append(i)\n",
    "for i in range(8,5,-1):\n",
    "    lst_data.insert(3,i)\n",
    "lst_data"
   ]
  },
  {
   "cell_type": "code",
   "execution_count": 13,
   "metadata": {},
   "outputs": [
    {
     "data": {
      "text/plain": [
       "[0, 0, 0, 0, 7, 0, 0, 1, 0, 3]"
      ]
     },
     "execution_count": 13,
     "metadata": {},
     "output_type": "execute_result"
    }
   ],
   "source": [
    "# Nếu các số trong lst_data chia hết cho 2 hoặc chia hết cho 5 thì cập nhật thành số 0\n",
    "for idx, data in enumerate(lst_data):\n",
    "    if data%2 == 0 or data%5 == 0:\n",
    "        lst_data[idx] = 0\n",
    "lst_data"
   ]
  },
  {
   "cell_type": "code",
   "execution_count": null,
   "metadata": {},
   "outputs": [],
   "source": []
  }
 ],
 "metadata": {
  "kernelspec": {
   "display_name": "chaupmbn",
   "language": "python",
   "name": "python3"
  },
  "language_info": {
   "codemirror_mode": {
    "name": "ipython",
    "version": 3
   },
   "file_extension": ".py",
   "mimetype": "text/x-python",
   "name": "python",
   "nbconvert_exporter": "python",
   "pygments_lexer": "ipython3",
   "version": "3.10.14"
  }
 },
 "nbformat": 4,
 "nbformat_minor": 2
}
