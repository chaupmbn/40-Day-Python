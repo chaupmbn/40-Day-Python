{
 "cells": [
  {
   "cell_type": "code",
   "execution_count": 1,
   "metadata": {},
   "outputs": [
    {
     "data": {
      "text/plain": [
       "[1, 2, 3, 4, 5, 6, 7, 8, 9, 10]"
      ]
     },
     "execution_count": 1,
     "metadata": {},
     "output_type": "execute_result"
    }
   ],
   "source": [
    "# Tạo mới một list có tên là lst_data, gồm các số từ 1 đến 10\n",
    "lst_data = [i for i in range(1,11)]\n",
    "lst_data"
   ]
  },
  {
   "cell_type": "code",
   "execution_count": 4,
   "metadata": {},
   "outputs": [
    {
     "name": "stdout",
     "output_type": "stream",
     "text": [
      "Median = 5.5\n"
     ]
    }
   ],
   "source": [
    "# Tính giá trị trung vị từ lst_data vừa tạo (không dùng numpy)\n",
    "lst_data.sort()\n",
    "median = 0\n",
    "n = len(lst_data)\n",
    "if n%2 != 0:\n",
    "    median = lst_data[(n+1)/2-1]\n",
    "else:\n",
    "    median = (lst_data[int(n/2)-1] + lst_data[int(n/2)])/2\n",
    "print(f\"Median = {median}\")"
   ]
  },
  {
   "cell_type": "code",
   "execution_count": 6,
   "metadata": {},
   "outputs": [
    {
     "data": {
      "text/plain": [
       "[9, 7, 5, 3, 1]"
      ]
     },
     "execution_count": 6,
     "metadata": {},
     "output_type": "execute_result"
    }
   ],
   "source": [
    "# Lọc các giá trị số lẻ trong lst_data và lưu ra list mới có tên là lst_odd_filter với thứ tự giảm dần (Sử dụng phương thức reverse = True trong hàm sort/sorted)\n",
    "lst_odd_filter = [i for i in sorted(lst_data,reverse=True) if i%2 != 0]\n",
    "lst_odd_filter"
   ]
  },
  {
   "cell_type": "code",
   "execution_count": null,
   "metadata": {},
   "outputs": [],
   "source": []
  }
 ],
 "metadata": {
  "kernelspec": {
   "display_name": "chaupmbn",
   "language": "python",
   "name": "python3"
  },
  "language_info": {
   "codemirror_mode": {
    "name": "ipython",
    "version": 3
   },
   "file_extension": ".py",
   "mimetype": "text/x-python",
   "name": "python",
   "nbconvert_exporter": "python",
   "pygments_lexer": "ipython3",
   "version": "3.10.14"
  }
 },
 "nbformat": 4,
 "nbformat_minor": 2
}
