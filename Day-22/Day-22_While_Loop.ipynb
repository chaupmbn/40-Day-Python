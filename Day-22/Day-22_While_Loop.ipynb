{
 "cells": [
  {
   "cell_type": "markdown",
   "metadata": {},
   "source": [
    "### Bài tập 1:\n",
    "Chọn ngẫu nhiên hai số a và b thuộc từ 1 đến 20 sao cho tổng của a +b bằng 40, câu hỏi đặt ra rằng, chúng ta phải tạo ngẫu nhiên bao nhiêu lần để thỏa mãn điều kiện trên"
   ]
  },
  {
   "cell_type": "code",
   "execution_count": 1,
   "metadata": {},
   "outputs": [
    {
     "name": "stdout",
     "output_type": "stream",
     "text": [
      "266\n",
      "32\n",
      "96\n"
     ]
    }
   ],
   "source": [
    "import random\n",
    "def random_number_with_condition(total):\n",
    "    random.seed(0)\n",
    "    count = 0\n",
    "    a,b = 1,1\n",
    "    while a+b != total:\n",
    "        a = random.randrange(1,21)\n",
    "        b = random.randrange(1,21)\n",
    "        count += 1\n",
    "    return count\n",
    "print(random_number_with_condition(40))\n",
    "print(random_number_with_condition(20))\n",
    "print(random_number_with_condition(35))"
   ]
  },
  {
   "cell_type": "markdown",
   "metadata": {},
   "source": [
    "### Bài tập 2:\n",
    "Cài đặt hàm find_divisible_number(a) tìm số nguyên dương nhỏ nhất lớn hơn 100 và chia hết cho số nguyên dương a."
   ]
  },
  {
   "cell_type": "code",
   "execution_count": 2,
   "metadata": {},
   "outputs": [
    {
     "name": "stdout",
     "output_type": "stream",
     "text": [
      "105\n",
      "102\n",
      "105\n",
      "102\n"
     ]
    }
   ],
   "source": [
    "def find_divisible_number_continue(a):\n",
    "    result = 101\n",
    "    while result%a != 0:\n",
    "        result += 1\n",
    "        continue\n",
    "    return result\n",
    "print(find_divisible_number_continue(5))\n",
    "print(find_divisible_number_continue(17))\n",
    "\n",
    "def find_divisible_number_break(a):\n",
    "    result = 101\n",
    "    while result%a != 0:\n",
    "        if result%a == (a-1):\n",
    "            break\n",
    "        result += 1\n",
    "    return (result+1)\n",
    "print(find_divisible_number_break(5))\n",
    "print(find_divisible_number_break(17))"
   ]
  },
  {
   "cell_type": "markdown",
   "metadata": {},
   "source": [
    "### Bài tập 3:\n",
    "Cài đặt hàm find_squared_root(a) tìm căn bậc hai của một số a bất kỳ với epsilon = 0.0001"
   ]
  },
  {
   "cell_type": "code",
   "execution_count": 4,
   "metadata": {},
   "outputs": [
    {
     "name": "stdout",
     "output_type": "stream",
     "text": [
      "1.4142156862745099\n",
      "1.7321428571428572\n"
     ]
    }
   ],
   "source": [
    "def find_squared_root(a):\n",
    "    epsilon = 0.0001\n",
    "    x = a\n",
    "    while abs(-(x**2-a)/(2*x)) >= epsilon:\n",
    "        x = x - (x**2-a)/(2*x)\n",
    "    return x\n",
    "print(find_squared_root(2))\n",
    "print(find_squared_root(3))"
   ]
  },
  {
   "cell_type": "code",
   "execution_count": null,
   "metadata": {},
   "outputs": [],
   "source": []
  }
 ],
 "metadata": {
  "kernelspec": {
   "display_name": "chaupmbn",
   "language": "python",
   "name": "python3"
  },
  "language_info": {
   "codemirror_mode": {
    "name": "ipython",
    "version": 3
   },
   "file_extension": ".py",
   "mimetype": "text/x-python",
   "name": "python",
   "nbconvert_exporter": "python",
   "pygments_lexer": "ipython3",
   "version": "3.10.14"
  }
 },
 "nbformat": 4,
 "nbformat_minor": 2
}
